{
 "cells": [
  {
   "cell_type": "markdown",
   "id": "3a98583e",
   "metadata": {},
   "source": [
    "### Load Data and Setup"
   ]
  },
  {
   "cell_type": "code",
   "execution_count": null,
   "id": "initial_id",
   "metadata": {
    "ExecuteTime": {
     "end_time": "2025-05-16T20:22:57.886451Z",
     "start_time": "2025-05-16T20:22:52.956832Z"
    },
    "collapsed": true
   },
   "outputs": [],
   "source": [
    "import torch\n",
    "from torch.utils.data import DataLoader\n",
    "from sklearn.model_selection import train_test_split\n",
    "import matplotlib.pyplot as plt\n",
    "from tqdm import tqdm \n",
    "from helper_functions import train, create_block_stack, BlockDataset, LoadDataFrames\n",
    "\n",
    "# Set device to GPU if available, otherwise CPU\n",
    "device = torch.device('cuda' if torch.cuda.is_available() else 'cpu')\n",
    "\n",
    "# Load all data files using the data loader class\n",
    "data_loader = LoadDataFrames()\n",
    "data_loader.load_data()\n",
    "train_df = data_loader.train_df\n",
    "static_df = data_loader.static_df\n",
    "test_df = data_loader.load_test_data()\n",
    "creator_encodings = data_loader.creator_encoding_df"
   ]
  },
  {
   "cell_type": "markdown",
   "id": "d454d861",
   "metadata": {},
   "source": [
    "### Data Preprocessing"
   ]
  },
  {
   "cell_type": "code",
   "execution_count": null,
   "id": "3e703e863bc487cd",
   "metadata": {
    "ExecuteTime": {
     "end_time": "2025-05-02T23:49:17.838847Z",
     "start_time": "2025-05-02T23:49:17.671792Z"
    }
   },
   "outputs": [],
   "source": [
    "# Convert dataframes to PyTorch tensors in sequential blocks\n",
    "features, creator_idx, labels = create_block_stack(features_df=train_df, creator_encodings=creator_encodings, static_df=static_df, stop=20000)"
   ]
  },
  {
   "cell_type": "code",
   "execution_count": null,
   "id": "16435d2e5ed4ac03",
   "metadata": {
    "ExecuteTime": {
     "end_time": "2025-05-03T00:24:53.259506Z",
     "start_time": "2025-05-03T00:24:53.086892Z"
    }
   },
   "outputs": [],
   "source": [
    "# Create PyTorch dataset from tensors\n",
    "dataset = BlockDataset(features, creator_idx, labels)\n",
    "\n",
    "# Split into 80% training, 20% testing\n",
    "train_blocks, test_blocks = train_test_split(dataset, test_size=0.2, shuffle=True, random_state=42)\n",
    "\n",
    "# Create data loaders for batch processing during training\n",
    "train_dataloader = DataLoader(train_blocks, batch_size=32, num_workers=2)\n",
    "test_dataloader = DataLoader(test_blocks, batch_size=32, shuffle=False, num_workers=2)"
   ]
  },
  {
   "cell_type": "markdown",
   "id": "2bb51283",
   "metadata": {},
   "source": [
    "### Model Setup"
   ]
  },
  {
   "cell_type": "code",
   "execution_count": null,
   "id": "cc2a2bc84eb16ce6",
   "metadata": {
    "ExecuteTime": {
     "end_time": "2025-05-03T00:23:42.871335Z",
     "start_time": "2025-05-03T00:23:42.103630Z"
    }
   },
   "outputs": [],
   "source": [
    "from GRU_model import GRUEmbedding\n",
    "\n",
    "# Define model hyperparameters\n",
    "num_features=19       # Number of input features per timestep\n",
    "hidden_size=512       # Size of GRU hidden state\n",
    "num_layers=2          # Number of GRU layers\n",
    "embedding_size=1000   # Size of creator embedding\n",
    "num_classes=1         # Binary classification output\n",
    "\n",
    "# Initialize and compile the model\n",
    "model = GRUEmbedding(num_features=num_features, hidden_size=hidden_size, num_layers=num_layers, num_classes=num_classes, device=device).to(device)\n",
    "model = torch.compile(model) \n",
    "losses = []"
   ]
  },
  {
   "cell_type": "markdown",
   "id": "266f4579",
   "metadata": {},
   "source": [
    "### Model Training"
   ]
  },
  {
   "cell_type": "code",
   "execution_count": null,
   "id": "228d54ca9dd86f9f",
   "metadata": {},
   "outputs": [],
   "source": [
    "# Set training hyperparameters\n",
    "epochs = 1\n",
    "learning_rate = 3e-4\n",
    "optimizer = torch.optim.AdamW\n",
    "\n",
    "# Train the model and collect training results\n",
    "results = train(model, train_dataloader, n_epoch=epochs, report_every=1, learning_rate=learning_rate, optimizer=optimizer, device=device)\n",
    "\n",
    "# Store losses for plotting (assumes losses list exists)\n",
    "losses.append(results['train_loss'])"
   ]
  },
  {
   "cell_type": "markdown",
   "id": "7f1b3dbd",
   "metadata": {},
   "source": [
    "### Results and Visualization"
   ]
  },
  {
   "cell_type": "code",
   "execution_count": null,
   "id": "4ce2e93e9a0b2204",
   "metadata": {
    "ExecuteTime": {
     "end_time": "2025-05-03T00:26:28.706033Z",
     "start_time": "2025-05-03T00:26:28.654848Z"
    }
   },
   "outputs": [],
   "source": [
    "# Plot training losses across epochs\n",
    "plt.plot(losses)"
   ]
  },
  {
   "cell_type": "code",
   "execution_count": null,
   "id": "8a4ff326e129c58b",
   "metadata": {
    "ExecuteTime": {
     "end_time": "2025-05-01T00:36:45.669121Z",
     "start_time": "2025-05-01T00:36:45.609144Z"
    }
   },
   "outputs": [],
   "source": [
    "# Compare validation and training losses\n",
    "plt.plot(results['val_loss'], label='Validation loss')\n",
    "plt.plot(results['train_loss'], label='Training loss')\n",
    "plt.legend()"
   ]
  },
  {
   "cell_type": "code",
   "execution_count": null,
   "id": "c185786e93fbdbb",
   "metadata": {},
   "outputs": [],
   "source": [
    "# Display final validation metrics from last epoch\n",
    "print(\"\\nFinal validation metrics:\")\n",
    "final_metrics = results['val_metrics'][-1]\n",
    "for metric, value in final_metrics.items():\n",
    "    print(f\"  {metric}: {value:.4f}\")"
   ]
  },
  {
   "cell_type": "code",
   "execution_count": null,
   "id": "5d189fd90bfa212d",
   "metadata": {},
   "outputs": [],
   "source": [
    "# View all validation metrics for each epoch\n",
    "results['val_metrics']"
   ]
  },
  {
   "cell_type": "markdown",
   "id": "de990544",
   "metadata": {},
   "source": [
    "### Save Model"
   ]
  },
  {
   "cell_type": "code",
   "execution_count": null,
   "id": "e452165ef11e46b1",
   "metadata": {},
   "outputs": [],
   "source": [
    "# Save the trained model parameters to disk\n",
    "torch.save(obj=model.state_dict(), # only saving the state_dict() only saves the learned parameters\n",
    "           f='model.pth')"
   ]
  }
 ],
 "metadata": {
  "kernelspec": {
   "display_name": "lightgbm_test",
   "language": "python",
   "name": "lightgbm_test"
  },
  "language_info": {
   "codemirror_mode": {
    "name": "ipython",
    "version": 3
   },
   "file_extension": ".py",
   "mimetype": "text/x-python",
   "name": "python",
   "nbconvert_exporter": "python",
   "pygments_lexer": "ipython3",
   "version": "3.12.8"
  }
 },
 "nbformat": 4,
 "nbformat_minor": 5
}
